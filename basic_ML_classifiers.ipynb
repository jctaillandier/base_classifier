{
 "cells": [
  {
   "cell_type": "code",
   "execution_count": 19,
   "metadata": {},
   "outputs": [
    {
     "name": "stdout",
     "output_type": "stream",
     "text": [
      "income\n",
      ">LR nan (nan)\n"
     ]
    }
   ],
   "source": [
    "# spot check machine learning algorithms on the adult imbalanced dataset\n",
    "from numpy import mean\n",
    "from numpy import std\n",
    "import pdb\n",
    "import pandas as pd\n",
    "from pandas import read_csv\n",
    "from matplotlib import pyplot\n",
    "from sklearn.preprocessing import LabelEncoder\n",
    "from sklearn.preprocessing import OneHotEncoder\n",
    "from sklearn.preprocessing import MinMaxScaler\n",
    "from sklearn.pipeline import Pipeline\n",
    "from sklearn.compose import ColumnTransformer\n",
    "from sklearn.model_selection import cross_val_score\n",
    "from sklearn.model_selection import RepeatedStratifiedKFold\n",
    "from sklearn.tree import DecisionTreeClassifier\n",
    "from sklearn.svm import SVC\n",
    "from sklearn.ensemble import RandomForestClassifier\n",
    "from sklearn.ensemble import GradientBoostingClassifier\n",
    "from sklearn.ensemble import BaggingClassifier\n",
    "from sklearn.model_selection import train_test_split\n",
    "from sklearn.metrics import accuracy_score\n",
    "from sklearn.neural_network import MLPClassifier\n",
    "from sklearn.linear_model import LogisticRegression\n",
    "\n",
    "\n",
    "\n",
    "# load the dataset\n",
    "def load_dataset(full_path):\n",
    "    # load the dataset as a numpy array\n",
    "    dataframe = read_csv(full_path, na_values='?')\n",
    "    # drop rows with missing\n",
    "    dataframe = dataframe.dropna()\n",
    "    # split into inputs and outputs\n",
    "    last_ix = 'income'\n",
    "    print(last_ix)\n",
    "    X, y = dataframe.drop(last_ix, axis=1), dataframe[last_ix]\n",
    "    # select categorical and numerical features\n",
    "    cat_ix = X.select_dtypes(include=['object', 'bool']).columns\n",
    "    num_ix = X.select_dtypes(include=['int64', 'float64']).columns\n",
    "    # label encode the target variable to have the classes 0 and 1\n",
    "    return X.values, y, cat_ix, num_ix\n",
    "\n",
    "# evaluate a model\n",
    "def evaluate_model(X, y, model):\n",
    "\t# define evaluation procedure\n",
    "\tcv = RepeatedStratifiedKFold(n_splits=10, n_repeats=3, random_state=1)\n",
    "\t# evaluate model\n",
    "\tscores = cross_val_score(model, X, y, scoring='accuracy', cv=cv, n_jobs=-1)\n",
    "\treturn scores\n",
    "\n",
    "# define models to test\n",
    "def get_models():\n",
    "    models, names = list(), list()\n",
    "    # CART\n",
    "#     models.append(DecisionTreeClassifier())\n",
    "#     names.append('CART')\n",
    "#     # SVM\n",
    "#     models.append(SVC(gamma='scale'))\n",
    "#     names.append('SVM')\n",
    "#     # Bagging\n",
    "#     models.append(BaggingClassifier(n_estimators=100))\n",
    "#     names.append('BAG')\n",
    "#     # RF\n",
    "#     models.append(RandomForestClassifier(n_estimators=100))\n",
    "#     names.append('RF')\n",
    "#     # GBM\n",
    "#     models.append(GradientBoostingClassifier(n_estimators=100))\n",
    "#     names.append('GBM')\n",
    "#     models.append(MLPClassifier(max_iter=300))\n",
    "#     names.append('MLP')\n",
    "    models.append(LogisticRegression(class_weight='balanced', solver='liblinear'))\n",
    "    names.append('LR')\n",
    "    return models, names\n",
    "\n",
    "\n",
    "# file = 'train_sex'\n",
    "# file = 'adult_sanitized_0.9875'\n",
    "# # define the location of the dataset\n",
    "# full_path = f'../focus_data/gansanitized/{file}.csv'\n",
    "# # load the dataset\n",
    "# X, y, cat_ix, num_ix = load_dataset(full_path)\n",
    "\n",
    "original_data = f\"../GeneralDatasets/Csv/Adult_NotNA_.csv\"\n",
    "# original_data = f\"../focus_data/2_sex.csv\"\n",
    "X, y, cat_ix, num_ix = load_dataset(original_data)\n",
    "\n",
    "\n",
    "# define models\n",
    "models, names = get_models()\n",
    "results = list()\n",
    "# evaluate each model\n",
    "for i in range(len(models)):\n",
    "\t# define steps\n",
    "\tsteps = [('c',OneHotEncoder(handle_unknown='ignore'),cat_ix), ('n',MinMaxScaler(),num_ix)]\n",
    "\t# one hot encode categorical, normalize numerical\n",
    "\tct = ColumnTransformer(steps)\n",
    "\t# wrap the model i a pipeline\n",
    "\tpipeline = Pipeline(steps=[('t',ct),('m',models[i])])\n",
    "\t# evaluate the model and store results\n",
    "\tscores = evaluate_model(X, y, pipeline)\n",
    "\tresults.append(scores)\n",
    "\t# summarize performance\n",
    "\tprint('>%s %.3f (%.3f)' % (names[i], mean(scores), std(scores)))\n",
    "\n",
    "\n",
    "# plot the results\n",
    "# pyplot.boxplot(results, labels=names, showmeans=True)\n",
    "# pyplot.savefig(f\"./experiments/metadata_{file}.png\")\n",
    "# Write the results to file"
   ]
  },
  {
   "cell_type": "code",
   "execution_count": 16,
   "metadata": {},
   "outputs": [
    {
     "data": {
      "image/png": "[encoded data removed]",
      "text/plain": [
       "<Figure size 432x288 with 1 Axes>"
      ]
     },
     "metadata": {
      "needs_background": "light"
     },
     "output_type": "display_data"
    }
   ],
   "source": [
    "# plot the results\n",
    "pyplot.boxplot(results, labels=names, showmeans=True)\n",
    "pyplot.title(\"Average precision with Mean and Standard Deviation of different Classifiers\")\n",
    "pyplot.ylabel(\"Percentage %\")\n",
    "pyplot.savefig('results_adult_ML.png')\n",
    "pyplot.show()"
   ]
  },
  {
   "cell_type": "code",
   "execution_count": null,
   "metadata": {},
   "outputs": [],
   "source": []
  },
  {
   "cell_type": "code",
   "execution_count": null,
   "metadata": {},
   "outputs": [],
   "source": []
  },
  {
   "cell_type": "code",
   "execution_count": null,
   "metadata": {},
   "outputs": [],
   "source": []
  }
 ],
 "metadata": {
  "kernelspec": {
   "display_name": "Python 3",
   "language": "python",
   "name": "python3"
  },
  "language_info": {
   "codemirror_mode": {
    "name": "ipython",
    "version": 3
   },
   "file_extension": ".py",
   "mimetype": "text/x-python",
   "name": "python",
   "nbconvert_exporter": "python",
   "pygments_lexer": "ipython3",
   "version": "3.7.5"
  }
 },
 "nbformat": 4,
 "nbformat_minor": 4
}
